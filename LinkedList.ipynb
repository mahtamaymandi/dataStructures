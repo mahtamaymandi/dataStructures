{
 "cells": [
  {
   "cell_type": "code",
   "execution_count": 1,
   "id": "4cd5467d",
   "metadata": {},
   "outputs": [],
   "source": [
    "class Node:\n",
    "    def __init__(self, inputVal=None):\n",
    "        self.currVal = inputVal\n",
    "        self.nextVal = None"
   ]
  },
  {
   "cell_type": "code",
   "execution_count": 138,
   "id": "d15dcf56",
   "metadata": {},
   "outputs": [],
   "source": [
    "class SinglyLinkedList:\n",
    "    \n",
    "    ##########################\n",
    "    def __init__(self):\n",
    "        self.head = None\n",
    "        \n",
    "    ##########################   \n",
    "    # method for printing list   \n",
    "    def printList(self):\n",
    "        current = self.head\n",
    "        \n",
    "        while current:\n",
    "            # if list is empty\n",
    "            if current.nextVal == None:\n",
    "                print(current.currVal)\n",
    "                break\n",
    "                \n",
    "            else:\n",
    "                print(current.currVal, '-->', end=' ')\n",
    "                current = current.nextVal\n",
    "                \n",
    "    ##########################\n",
    "    def push(self, x):\n",
    "        pass\n",
    "    \n",
    "    ##########################\n",
    "    def search(self, x):\n",
    "        current = self.head\n",
    "        pos = 0\n",
    "        \n",
    "        while current:\n",
    "            if x == current.currVal:\n",
    "                return print('item found at index', pos,  '(starting from 0)')\n",
    "            \n",
    "            current = current.nextVal\n",
    "            pos+=1\n",
    "            \n",
    "        return print('item not in list')\n",
    "    \n",
    "    ##########################\n",
    "    def delete(self, x):\n",
    "        current = self.head\n",
    "        prev = current\n",
    "        it = 0\n",
    "            \n",
    "        # if item is located at the head of list\n",
    "        if x == self.head.currVal:\n",
    "            self.head = current.nextVal\n",
    "            current = None\n",
    "            return ('item deleted from head of list')\n",
    "        \n",
    "        while current:\n",
    "            if x == current.currVal:\n",
    "                prev.nextVal = current.nextVal\n",
    "                current = current.nextVal\n",
    "                return print('item deleted from list')\n",
    "            \n",
    "            prev = current\n",
    "            current = current.nextVal\n",
    "            \n",
    "            it+=1\n",
    "            print('iteration', it)\n",
    "\n",
    "        return print('item not in list') "
   ]
  },
  {
   "cell_type": "code",
   "execution_count": 140,
   "id": "80dd7aca",
   "metadata": {},
   "outputs": [
    {
     "name": "stdout",
     "output_type": "stream",
     "text": [
      "iteration 1\n",
      "iteration 2\n",
      "item deleted from list\n",
      "5 --> 3 --> 8\n"
     ]
    }
   ],
   "source": [
    "# code execution starts here\n",
    "if __name__=='__main__':\n",
    "    \n",
    "    # initiate linked list class\n",
    "    linkedList = SinglyLinkedList()\n",
    "    \n",
    "    # insert values in linked list\n",
    "    linkedList.head = Node(5)\n",
    "    second = Node(3)\n",
    "    third = Node(4)\n",
    "    tail = Node(8)\n",
    "    \n",
    "    # get list\n",
    "    linkedList.head.nextVal = second\n",
    "    second.nextVal = third\n",
    "    third.nextVal = tail\n",
    "    \n",
    "    #linkedList.printList()\n",
    "    #linkedList.search(8)\n",
    "    linkedList.delete(4)\n",
    "    linkedList.printList()"
   ]
  },
  {
   "cell_type": "code",
   "execution_count": null,
   "id": "51db7da7",
   "metadata": {},
   "outputs": [],
   "source": []
  }
 ],
 "metadata": {
  "kernelspec": {
   "display_name": "Python 3 (ipykernel)",
   "language": "python",
   "name": "python3"
  },
  "language_info": {
   "codemirror_mode": {
    "name": "ipython",
    "version": 3
   },
   "file_extension": ".py",
   "mimetype": "text/x-python",
   "name": "python",
   "nbconvert_exporter": "python",
   "pygments_lexer": "ipython3",
   "version": "3.10.9"
  }
 },
 "nbformat": 4,
 "nbformat_minor": 5
}
