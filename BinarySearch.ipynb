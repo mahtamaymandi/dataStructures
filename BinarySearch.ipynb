{
 "cells": [
  {
   "cell_type": "code",
   "execution_count": 19,
   "id": "3bcc81cf",
   "metadata": {},
   "outputs": [],
   "source": [
    "def binarySearch(lst, query):\n",
    "    \n",
    "    # sort list of numbers in descending order\n",
    "    sortedList = sorted(lst, reverse=True)\n",
    "    \n",
    "    L = len(sortedList)\n",
    "    \n",
    "    # [low mid high] ---> right portion: [low:high+1] --- left portion: [low:high+1]\n",
    "    high = L-1\n",
    "    low = 0\n",
    "   \n",
    "    # compare middle value to query\n",
    "    # go right if middle value is smaller, go left if larger\n",
    "    # create new list from remaining portion\n",
    "    # repeat\n",
    "    # output is the position of query number in the input list\n",
    "    \n",
    "    cnt = 0\n",
    "    while cnt<L and L!=0:\n",
    "        \n",
    "        cnt+=1\n",
    "        newList = []\n",
    "        \n",
    "        mid = (high+low)//2\n",
    "        m = sortedList[mid]\n",
    "        \n",
    "        print('iteration ', cnt) \n",
    "        print('middle index:', mid, '--', m)\n",
    "         \n",
    "        if m > query:\n",
    "              \n",
    "            #high = L-1\n",
    "            low = mid+1\n",
    "            \n",
    "            newList = sortedList[low-1:high+1]\n",
    "            print('right portion:', newList)\n",
    "\n",
    "        elif m < query:\n",
    "            \n",
    "            high = mid-1\n",
    "            #low = high-mid+1\n",
    "            \n",
    "            newList = sortedList[low:high+1]\n",
    "            print('left portion:', newList)\n",
    "            \n",
    "        if m == query:\n",
    "            \n",
    "            print('m == query, mid is returned')\n",
    "            return mid\n",
    "                   \n",
    "    return -1 # list is empty"
   ]
  },
  {
   "cell_type": "code",
   "execution_count": 22,
   "id": "1358c956",
   "metadata": {},
   "outputs": [
    {
     "name": "stdout",
     "output_type": "stream",
     "text": [
      "iteration  1\n",
      "middle index: 3 -- 7\n",
      "right portion: [7, 4, 3, 1, 0]\n",
      "iteration  2\n",
      "middle index: 5 -- 3\n",
      "right portion: [3, 1, 0]\n",
      "iteration  3\n",
      "middle index: 6 -- 1\n",
      "right portion: [1, 0]\n",
      "iteration  4\n",
      "middle index: 7 -- 0\n",
      "m == query, mid is returned\n"
     ]
    },
    {
     "data": {
      "text/plain": [
       "7"
      ]
     },
     "execution_count": 22,
     "metadata": {},
     "output_type": "execute_result"
    }
   ],
   "source": [
    "numbers = [13, 11, 10, 7, 4, 3, 1, 0]\n",
    "query = 0\n",
    "idx = binarySearch(numbers, query)\n",
    "idx"
   ]
  },
  {
   "cell_type": "code",
   "execution_count": 9,
   "id": "c3fe1fde",
   "metadata": {},
   "outputs": [
    {
     "data": {
      "text/plain": [
       "-1"
      ]
     },
     "execution_count": 9,
     "metadata": {},
     "output_type": "execute_result"
    }
   ],
   "source": [
    "numbers = []\n",
    "query = 7\n",
    "idx = binarySearch(numbers, query)\n",
    "idx"
   ]
  },
  {
   "cell_type": "code",
   "execution_count": 10,
   "id": "bac9658a",
   "metadata": {},
   "outputs": [
    {
     "name": "stdout",
     "output_type": "stream",
     "text": [
      "iteration  1\n",
      "middle index: 0 middle value: 5\n",
      "m < query, select left portion: []\n"
     ]
    },
    {
     "data": {
      "text/plain": [
       "-1"
      ]
     },
     "execution_count": 10,
     "metadata": {},
     "output_type": "execute_result"
    }
   ],
   "source": [
    "numbers = [5]\n",
    "query = 9\n",
    "idx = binarySearch(numbers, query)\n",
    "idx"
   ]
  },
  {
   "cell_type": "code",
   "execution_count": null,
   "id": "2a45fef9",
   "metadata": {},
   "outputs": [],
   "source": [
    "# Test Casess\n",
    "# 1. Number is in the middle of the list\n",
    "# 2. Number is the first element in the list\n",
    "################################################ 3. Number is the last elemenet in the list\n",
    "# 4. List contains only one element\n",
    "# 5. List is empty\n",
    "# 6. List contains elements other than numbers\n",
    "# 7. List contains repeating nnumbers\n",
    "# 8. number query is not in list"
   ]
  }
 ],
 "metadata": {
  "kernelspec": {
   "display_name": "Python 3 (ipykernel)",
   "language": "python",
   "name": "python3"
  },
  "language_info": {
   "codemirror_mode": {
    "name": "ipython",
    "version": 3
   },
   "file_extension": ".py",
   "mimetype": "text/x-python",
   "name": "python",
   "nbconvert_exporter": "python",
   "pygments_lexer": "ipython3",
   "version": "3.10.9"
  }
 },
 "nbformat": 4,
 "nbformat_minor": 5
}
